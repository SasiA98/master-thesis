{
 "cells": [
  {
   "cell_type": "code",
   "execution_count": null,
   "id": "1321c6f2",
   "metadata": {
    "_cell_guid": "b1076dfc-b9ad-4769-8c92-a6c4dae69d19",
    "_uuid": "8f2839f25d086af736a60e9eeb907d3b93b6e0e5",
    "execution": {
     "iopub.execute_input": "2023-10-11T09:27:07.892212Z",
     "iopub.status.busy": "2023-10-11T09:27:07.891838Z",
     "iopub.status.idle": "2023-10-11T09:27:16.755632Z",
     "shell.execute_reply": "2023-10-11T09:27:16.754508Z"
    },
    "papermill": {
     "duration": 8.87465,
     "end_time": "2023-10-11T09:27:16.758128",
     "exception": false,
     "start_time": "2023-10-11T09:27:07.883478",
     "status": "completed"
    },
    "tags": []
   },
   "outputs": [],
   "source": [
    "from matplotlib import pyplot as plt\n",
    "from keras.models import Model\n",
    "from tensorflow.image import ssim\n",
    "from tensorflow.keras.applications.vgg16 import VGG16, preprocess_input\n",
    "import numpy as np\n",
    "from IPython import display\n",
    "import tensorflow as tf\n",
    "import os\n",
    "import pathlib\n",
    "import time\n",
    "import datetime\n",
    "import glob\n",
    "import gc\n",
    "\n",
    "DATASET_PATH = 'task_1/dataset/processed_mirror_hk_dataset_320x256_ac_4/'\n",
    "\n",
    "BATCH_SIZE = 4\n",
    "\n",
    "IMG_WIDTH = 320\n",
    "IMG_HEIGHT = 256\n",
    "\n",
    "# --------------------------------------------------------------------------------------------------------------- #\n",
    "\n",
    "# data distribution \n",
    "\n",
    "# 209 subjects \n",
    "# 150 training   72%\n",
    "# 30 validation  14%\n",
    "# 29 testing     14%\n",
    "\n",
    "# split in train - validation - test\n",
    "\n",
    "training_files = glob.glob(DATASET_PATH + 'train/*.png')\n",
    "test_files = glob.glob(DATASET_PATH + 'test/*.png')\n",
    "test_files.sort()\n",
    "trainingset_size = len(training_files)\n",
    "\n",
    "validation_files = []\n",
    "new_test_files = []\n",
    "len_file = len(test_files[1])\n",
    "\n",
    "i=0\n",
    "for file in test_files:\n",
    "    sub = test_files[i][len_file-11:len_file-8]\n",
    "    if int(sub) <= 180 :\n",
    "        validation_files.append(file)\n",
    "    else :\n",
    "        new_test_files.append(file)\n",
    "    i = i+1\n",
    "\n",
    "\n",
    "validationset_size = len(validation_files)\n",
    "\n",
    "test_files = new_test_files\n",
    "testset_size = len(test_files)\n",
    "\n",
    "DATASET_PATH  = pathlib.Path(DATASET_PATH)\n",
    "\n",
    "# --------------------------------------------------------------------------------------------------------------- #\n",
    "\n",
    "EPOCHS = 430\n",
    "VALIDATION_START_EPOCHS = 300\n",
    "\n",
    "NSTEPS = trainingset_size * EPOCHS\n",
    "\n",
    "# dataset is made of RBG images \n",
    "OUTPUT_CHANNELS = 3\n",
    "\n",
    "# buffer size is equal to training set size\n",
    "BUFFER_SIZE = trainingset_size\n",
    "\n",
    "# log directory \n",
    "LOG_DIR = \"logs/\" + '_nsteps_' + str(NSTEPS) + '_bs_' + str(BATCH_SIZE)  + '/'"
   ]
  },
  {
   "cell_type": "code",
   "execution_count": null,
   "id": "34a1147c",
   "metadata": {
    "execution": {
     "iopub.execute_input": "2023-10-11T09:27:16.774037Z",
     "iopub.status.busy": "2023-10-11T09:27:16.773158Z",
     "iopub.status.idle": "2023-10-11T09:27:16.779866Z",
     "shell.execute_reply": "2023-10-11T09:27:16.778724Z"
    },
    "papermill": {
     "duration": 0.016547,
     "end_time": "2023-10-11T09:27:16.781820",
     "exception": false,
     "start_time": "2023-10-11T09:27:16.765273",
     "status": "completed"
    },
    "tags": []
   },
   "outputs": [],
   "source": [
    "def load(image_file):\n",
    "    # Read and decode an image file to a uint8 tensor\n",
    "    image = tf.io.read_file(image_file)\n",
    "    image = tf.io.decode_png(image)\n",
    "        \n",
    "    # Split each image tensor into two tensors:\n",
    "    # - one with a real building facade image\n",
    "    # - one with an architecture label image \n",
    "    w = tf.shape(image)[1]\n",
    "    w = w // 2\n",
    "\n",
    "    input_image = image[:, :w, :]\n",
    "    real_image = image[:, w:, :]\n",
    "\n",
    "    # Convert both images to float32 tensors\n",
    "    input_image = tf.cast(input_image, tf.float32)\n",
    "    real_image = tf.cast(real_image, tf.float32)\n",
    "\n",
    "    return input_image, real_image"
   ]
  },
  {
   "cell_type": "code",
   "execution_count": null,
   "id": "7006364a",
   "metadata": {
    "execution": {
     "iopub.execute_input": "2023-10-11T09:27:16.797137Z",
     "iopub.status.busy": "2023-10-11T09:27:16.796312Z",
     "iopub.status.idle": "2023-10-11T09:27:16.801810Z",
     "shell.execute_reply": "2023-10-11T09:27:16.800730Z"
    },
    "papermill": {
     "duration": 0.015229,
     "end_time": "2023-10-11T09:27:16.803758",
     "exception": false,
     "start_time": "2023-10-11T09:27:16.788529",
     "status": "completed"
    },
    "tags": []
   },
   "outputs": [],
   "source": [
    "def resize(input_image, real_image, height, width):\n",
    "    input_image = tf.image.resize(input_image, [height, width],\n",
    "                                method=tf.image.ResizeMethod.NEAREST_NEIGHBOR)\n",
    "    real_image = tf.image.resize(real_image, [height, width],\n",
    "                               method=tf.image.ResizeMethod.NEAREST_NEIGHBOR)\n",
    "    \n",
    "    return input_image, real_image"
   ]
  },
  {
   "cell_type": "code",
   "execution_count": null,
   "id": "e0640878",
   "metadata": {
    "execution": {
     "iopub.execute_input": "2023-10-11T09:27:16.819193Z",
     "iopub.status.busy": "2023-10-11T09:27:16.818835Z",
     "iopub.status.idle": "2023-10-11T09:27:20.437600Z",
     "shell.execute_reply": "2023-10-11T09:27:20.436720Z"
    },
    "papermill": {
     "duration": 3.629319,
     "end_time": "2023-10-11T09:27:20.440283",
     "exception": false,
     "start_time": "2023-10-11T09:27:16.810964",
     "status": "completed"
    },
    "tags": []
   },
   "outputs": [],
   "source": [
    "inp, re = load(training_files[1])\n",
    "#inp, re = resize(inp,re, IMG_WIDTH,IMG_HEIGHT)\n",
    "\n",
    "plt.figure(figsize=(6, 6))\n",
    "\n",
    "display_list = [(inp / 255.0), (re / 255.0)]\n",
    "title = ['Input Image', 'Ground Truth']\n",
    "\n",
    "for i in range(2):\n",
    "    plt.subplot(1, 2, i+1)\n",
    "    plt.title(title[i])\n",
    "    plt.imshow(display_list[i])\n",
    "    plt.axis('off')\n",
    "\n",
    "plt.show()"
   ]
  },
  {
   "cell_type": "code",
   "execution_count": null,
   "id": "59ee8cb4",
   "metadata": {
    "execution": {
     "iopub.execute_input": "2023-10-11T09:27:20.455558Z",
     "iopub.status.busy": "2023-10-11T09:27:20.455270Z",
     "iopub.status.idle": "2023-10-11T09:27:20.459900Z",
     "shell.execute_reply": "2023-10-11T09:27:20.458987Z"
    },
    "papermill": {
     "duration": 0.014415,
     "end_time": "2023-10-11T09:27:20.461728",
     "exception": false,
     "start_time": "2023-10-11T09:27:20.447313",
     "status": "completed"
    },
    "tags": []
   },
   "outputs": [],
   "source": [
    "def random_crop(input_image, real_image):\n",
    "    stacked_image = tf.stack([input_image, real_image], axis=0)\n",
    "    cropped_image = tf.image.random_crop(\n",
    "        stacked_image, size=[2, IMG_HEIGHT, IMG_WIDTH, 3])\n",
    "\n",
    "    return cropped_image[0], cropped_image[1]"
   ]
  },
  {
   "cell_type": "code",
   "execution_count": null,
   "id": "dff93f20",
   "metadata": {
    "execution": {
     "iopub.execute_input": "2023-10-11T09:27:20.477204Z",
     "iopub.status.busy": "2023-10-11T09:27:20.476853Z",
     "iopub.status.idle": "2023-10-11T09:27:20.481435Z",
     "shell.execute_reply": "2023-10-11T09:27:20.480331Z"
    },
    "papermill": {
     "duration": 0.014393,
     "end_time": "2023-10-11T09:27:20.483177",
     "exception": false,
     "start_time": "2023-10-11T09:27:20.468784",
     "status": "completed"
    },
    "tags": []
   },
   "outputs": [],
   "source": [
    "# Normalizing the images to [-1, 1]\n",
    "def normalize(input_image, real_image):\n",
    "    input_image = (input_image / 127.5) - 1\n",
    "    real_image = (real_image / 127.5) - 1\n",
    "\n",
    "    return input_image, real_image"
   ]
  },
  {
   "cell_type": "code",
   "execution_count": null,
   "id": "393f2cec",
   "metadata": {
    "execution": {
     "iopub.execute_input": "2023-10-11T09:27:20.497894Z",
     "iopub.status.busy": "2023-10-11T09:27:20.497627Z",
     "iopub.status.idle": "2023-10-11T09:27:20.502822Z",
     "shell.execute_reply": "2023-10-11T09:27:20.501898Z"
    },
    "papermill": {
     "duration": 0.014905,
     "end_time": "2023-10-11T09:27:20.504740",
     "exception": false,
     "start_time": "2023-10-11T09:27:20.489835",
     "status": "completed"
    },
    "tags": []
   },
   "outputs": [],
   "source": [
    "@tf.function()\n",
    "def random_jitter(input_image, real_image):\n",
    "    # Resizing to 286x286\n",
    "    jitter_offset = 30\n",
    "    input_image, real_image = resize(input_image, real_image, IMG_HEIGHT + jitter_offset, IMG_WIDTH + jitter_offset)\n",
    "\n",
    "    # Random cropping back to 256x256\n",
    "    input_image, real_image = random_crop(input_image, real_image)\n",
    "\n",
    "    if tf.random.uniform(()) > 0.5:\n",
    "        # Random mirroring\n",
    "        input_image = tf.image.flip_left_right(input_image)\n",
    "        real_image = tf.image.flip_left_right(real_image)\n",
    "\n",
    "    return input_image, real_image"
   ]
  },
  {
   "cell_type": "code",
   "execution_count": null,
   "id": "9bfd748f",
   "metadata": {
    "execution": {
     "iopub.execute_input": "2023-10-11T09:27:20.521044Z",
     "iopub.status.busy": "2023-10-11T09:27:20.520156Z",
     "iopub.status.idle": "2023-10-11T09:27:20.524655Z",
     "shell.execute_reply": "2023-10-11T09:27:20.523766Z"
    },
    "papermill": {
     "duration": 0.014741,
     "end_time": "2023-10-11T09:27:20.526364",
     "exception": false,
     "start_time": "2023-10-11T09:27:20.511623",
     "status": "completed"
    },
    "tags": []
   },
   "outputs": [],
   "source": [
    "# -------- PRINT JITTERED IMAGES -------- #\n",
    "\n",
    "# plt.figure(figsize=(6, 6))\n",
    "# for i in range(4):\n",
    "#     rj_inp, rj_re = random_jitter(inp, re)\n",
    "#     plt.subplot(2, 2, i + 1)\n",
    "#     plt.imshow(rj_inp / 255.0)\n",
    "#     plt.axis('off')\n",
    "# plt.show()"
   ]
  },
  {
   "cell_type": "code",
   "execution_count": null,
   "id": "5bbe0adc",
   "metadata": {
    "execution": {
     "iopub.execute_input": "2023-10-11T09:27:20.541941Z",
     "iopub.status.busy": "2023-10-11T09:27:20.541162Z",
     "iopub.status.idle": "2023-10-11T09:27:20.545974Z",
     "shell.execute_reply": "2023-10-11T09:27:20.545133Z"
    },
    "papermill": {
     "duration": 0.014732,
     "end_time": "2023-10-11T09:27:20.547759",
     "exception": false,
     "start_time": "2023-10-11T09:27:20.533027",
     "status": "completed"
    },
    "tags": []
   },
   "outputs": [],
   "source": [
    "def load_image_train(image_file):\n",
    "    input_image, real_image = load(image_file)\n",
    "    input_image, real_image = random_jitter(input_image, real_image)\n",
    "    input_image, real_image = normalize(input_image, real_image)\n",
    "\n",
    "    return input_image, real_image"
   ]
  },
  {
   "cell_type": "code",
   "execution_count": null,
   "id": "d7adc164",
   "metadata": {
    "execution": {
     "iopub.execute_input": "2023-10-11T09:27:20.562882Z",
     "iopub.status.busy": "2023-10-11T09:27:20.562575Z",
     "iopub.status.idle": "2023-10-11T09:27:20.567376Z",
     "shell.execute_reply": "2023-10-11T09:27:20.566419Z"
    },
    "papermill": {
     "duration": 0.01435,
     "end_time": "2023-10-11T09:27:20.569005",
     "exception": false,
     "start_time": "2023-10-11T09:27:20.554655",
     "status": "completed"
    },
    "tags": []
   },
   "outputs": [],
   "source": [
    "def load_image_validation(image_file):\n",
    "    input_image, real_image = load(image_file)\n",
    "    input_image, real_image = normalize(input_image, real_image)\n",
    "    return input_image, real_image"
   ]
  },
  {
   "cell_type": "code",
   "execution_count": null,
   "id": "f53b8634",
   "metadata": {
    "execution": {
     "iopub.execute_input": "2023-10-11T09:27:20.584239Z",
     "iopub.status.busy": "2023-10-11T09:27:20.583379Z",
     "iopub.status.idle": "2023-10-11T09:27:20.588440Z",
     "shell.execute_reply": "2023-10-11T09:27:20.587622Z"
    },
    "papermill": {
     "duration": 0.014275,
     "end_time": "2023-10-11T09:27:20.590115",
     "exception": false,
     "start_time": "2023-10-11T09:27:20.575840",
     "status": "completed"
    },
    "tags": []
   },
   "outputs": [],
   "source": [
    "def load_image_test(image_file):\n",
    "    input_image, real_image = load(image_file)\n",
    "    input_image, real_image = normalize(input_image, real_image)\n",
    "\n",
    "    return input_image, real_image"
   ]
  },
  {
   "cell_type": "code",
   "execution_count": null,
   "id": "d13872a7",
   "metadata": {
    "execution": {
     "iopub.execute_input": "2023-10-11T09:27:20.605509Z",
     "iopub.status.busy": "2023-10-11T09:27:20.604893Z",
     "iopub.status.idle": "2023-10-11T09:27:21.463993Z",
     "shell.execute_reply": "2023-10-11T09:27:21.463056Z"
    },
    "papermill": {
     "duration": 0.869299,
     "end_time": "2023-10-11T09:27:21.466169",
     "exception": false,
     "start_time": "2023-10-11T09:27:20.596870",
     "status": "completed"
    },
    "tags": []
   },
   "outputs": [],
   "source": [
    "train_dataset = tf.data.Dataset.list_files(str(DATASET_PATH / 'train/*.png'))\n",
    "train_dataset = train_dataset.map(load_image_train,\n",
    "                                  num_parallel_calls=tf.data.AUTOTUNE)\n",
    "train_dataset = train_dataset.shuffle(BUFFER_SIZE)\n",
    "train_dataset = train_dataset.batch(BATCH_SIZE)"
   ]
  },
  {
   "cell_type": "code",
   "execution_count": null,
   "id": "e6a5fd80",
   "metadata": {
    "execution": {
     "iopub.execute_input": "2023-10-11T09:27:21.482352Z",
     "iopub.status.busy": "2023-10-11T09:27:21.481712Z",
     "iopub.status.idle": "2023-10-11T09:27:21.556269Z",
     "shell.execute_reply": "2023-10-11T09:27:21.555320Z"
    },
    "papermill": {
     "duration": 0.08507,
     "end_time": "2023-10-11T09:27:21.558480",
     "exception": false,
     "start_time": "2023-10-11T09:27:21.473410",
     "status": "completed"
    },
    "tags": []
   },
   "outputs": [],
   "source": [
    "validation_dataset = tf.data.Dataset.from_tensor_slices(validation_files)\n",
    "validation_dataset = validation_dataset.map(load_image_validation)\n",
    "validation_dataset = validation_dataset.batch(BATCH_SIZE)"
   ]
  },
  {
   "cell_type": "code",
   "execution_count": null,
   "id": "ddcdb22c",
   "metadata": {
    "execution": {
     "iopub.execute_input": "2023-10-11T09:27:21.574087Z",
     "iopub.status.busy": "2023-10-11T09:27:21.573727Z",
     "iopub.status.idle": "2023-10-11T09:27:21.636792Z",
     "shell.execute_reply": "2023-10-11T09:27:21.635741Z"
    },
    "papermill": {
     "duration": 0.073422,
     "end_time": "2023-10-11T09:27:21.639212",
     "exception": false,
     "start_time": "2023-10-11T09:27:21.565790",
     "status": "completed"
    },
    "tags": []
   },
   "outputs": [],
   "source": [
    "test_dataset = tf.data.Dataset.from_tensor_slices(test_files)\n",
    "test_dataset = test_dataset.map(load_image_test,\n",
    "                                    num_parallel_calls=tf.data.AUTOTUNE)\n",
    "test_dataset = test_dataset.batch(1)"
   ]
  },
  {
   "cell_type": "code",
   "execution_count": null,
   "id": "213422b8",
   "metadata": {
    "execution": {
     "iopub.execute_input": "2023-10-11T09:27:21.654980Z",
     "iopub.status.busy": "2023-10-11T09:27:21.654351Z",
     "iopub.status.idle": "2023-10-11T09:27:43.884577Z",
     "shell.execute_reply": "2023-10-11T09:27:43.883167Z"
    },
    "papermill": {
     "duration": 22.240495,
     "end_time": "2023-10-11T09:27:43.886838",
     "exception": false,
     "start_time": "2023-10-11T09:27:21.646343",
     "status": "completed"
    },
    "tags": []
   },
   "outputs": [],
   "source": [
    "print(\"trainset size : \", len(list(train_dataset)))  \n",
    "print(\"validation size : \", len(list(validation_dataset)))    \n",
    "print(\"testset size : \", len(list(test_dataset)))"
   ]
  },
  {
   "cell_type": "code",
   "execution_count": null,
   "id": "83c8eec4",
   "metadata": {
    "execution": {
     "iopub.execute_input": "2023-10-11T09:27:43.904869Z",
     "iopub.status.busy": "2023-10-11T09:27:43.903768Z",
     "iopub.status.idle": "2023-10-11T09:27:43.910302Z",
     "shell.execute_reply": "2023-10-11T09:27:43.909441Z"
    },
    "papermill": {
     "duration": 0.017581,
     "end_time": "2023-10-11T09:27:43.912245",
     "exception": false,
     "start_time": "2023-10-11T09:27:43.894664",
     "status": "completed"
    },
    "tags": []
   },
   "outputs": [],
   "source": [
    "def downsample(filters, size, apply_batchnorm=True):\n",
    "    initializer = tf.random_normal_initializer(0., 0.02)\n",
    "    \n",
    "    result = tf.keras.Sequential()\n",
    "    result.add(tf.keras.layers.Conv2D(filters, size, strides=2, padding='same', kernel_initializer=initializer, use_bias=False))\n",
    "\n",
    "    if apply_batchnorm:\n",
    "        result.add(tf.keras.layers.BatchNormalization())\n",
    "\n",
    "    result.add(tf.keras.layers.LeakyReLU())\n",
    "\n",
    "    return result"
   ]
  },
  {
   "cell_type": "code",
   "execution_count": null,
   "id": "41757ca6",
   "metadata": {
    "execution": {
     "iopub.execute_input": "2023-10-11T09:27:43.951730Z",
     "iopub.status.busy": "2023-10-11T09:27:43.950788Z",
     "iopub.status.idle": "2023-10-11T09:27:43.957163Z",
     "shell.execute_reply": "2023-10-11T09:27:43.956236Z"
    },
    "papermill": {
     "duration": 0.016394,
     "end_time": "2023-10-11T09:27:43.959065",
     "exception": false,
     "start_time": "2023-10-11T09:27:43.942671",
     "status": "completed"
    },
    "tags": []
   },
   "outputs": [],
   "source": [
    "def upsample(filters, size, apply_dropout=False):\n",
    "    initializer = tf.random_normal_initializer(0., 0.02)\n",
    "\n",
    "    result = tf.keras.Sequential()\n",
    "    result.add(tf.keras.layers.Conv2DTranspose(filters, size, strides=2,\n",
    "                                    padding='same',\n",
    "                                    kernel_initializer=initializer,\n",
    "                                    use_bias=False))\n",
    "\n",
    "    result.add(tf.keras.layers.BatchNormalization())\n",
    "\n",
    "    if apply_dropout:\n",
    "        result.add(tf.keras.layers.Dropout(0.5))\n",
    "\n",
    "    result.add(tf.keras.layers.ReLU())\n",
    "\n",
    "    return result"
   ]
  },
  {
   "cell_type": "code",
   "execution_count": null,
   "id": "2b008f34",
   "metadata": {
    "execution": {
     "iopub.execute_input": "2023-10-11T09:27:43.997325Z",
     "iopub.status.busy": "2023-10-11T09:27:43.997015Z",
     "iopub.status.idle": "2023-10-11T09:27:44.004840Z",
     "shell.execute_reply": "2023-10-11T09:27:44.003892Z"
    },
    "papermill": {
     "duration": 0.017731,
     "end_time": "2023-10-11T09:27:44.006635",
     "exception": false,
     "start_time": "2023-10-11T09:27:43.988904",
     "status": "completed"
    },
    "tags": []
   },
   "outputs": [],
   "source": [
    "def Generator():\n",
    "    inputs = tf.keras.layers.Input(shape=[IMG_HEIGHT, IMG_WIDTH, OUTPUT_CHANNELS])\n",
    "\n",
    "    down_stack = [\n",
    "        downsample(64, 4, apply_batchnorm=False),  \n",
    "        downsample(128, 4),  \n",
    "        downsample(256, 4), \n",
    "        downsample(512, 4),  \n",
    "        downsample(512, 4), \n",
    "        downsample(512, 4),\n",
    "      ]\n",
    "\n",
    "    up_stack = [\n",
    "        upsample(512, 4, apply_dropout=True),  \n",
    "        upsample(512, 4), \n",
    "        upsample(256, 4), \n",
    "        upsample(128, 4),\n",
    "        upsample(64, 4), \n",
    "    ]\n",
    "\n",
    "    initializer = tf.random_normal_initializer(0., 0.02)\n",
    "    last = tf.keras.layers.Conv2DTranspose(OUTPUT_CHANNELS, 4,\n",
    "                                         strides=2,\n",
    "                                         padding='same',\n",
    "                                         kernel_initializer=initializer,\n",
    "                                         activation='tanh')  \n",
    "\n",
    "    x = inputs\n",
    "\n",
    "    # Downsampling through the model\n",
    "    skips = []\n",
    "    for down in down_stack:\n",
    "        x = down(x)\n",
    "        skips.append(x)\n",
    "\n",
    "    skips = reversed(skips[:-1])\n",
    "\n",
    "    # Upsampling and establishing the skip connections\n",
    "    for up, skip in zip(up_stack, skips):\n",
    "        x = up(x)\n",
    "        x = tf.keras.layers.Concatenate()([x, skip])\n",
    "\n",
    "    x = last(x)\n",
    "\n",
    "    return tf.keras.Model(inputs=inputs, outputs=x)"
   ]
  },
  {
   "cell_type": "code",
   "execution_count": null,
   "id": "84d8cab2",
   "metadata": {
    "execution": {
     "iopub.execute_input": "2023-10-11T09:27:44.022100Z",
     "iopub.status.busy": "2023-10-11T09:27:44.021310Z",
     "iopub.status.idle": "2023-10-11T09:27:44.739363Z",
     "shell.execute_reply": "2023-10-11T09:27:44.738423Z"
    },
    "papermill": {
     "duration": 0.729444,
     "end_time": "2023-10-11T09:27:44.742887",
     "exception": false,
     "start_time": "2023-10-11T09:27:44.013443",
     "status": "completed"
    },
    "tags": []
   },
   "outputs": [],
   "source": [
    "generator = Generator()\n",
    "tf.keras.utils.plot_model(generator, show_shapes=True, dpi=64)"
   ]
  },
  {
   "cell_type": "code",
   "execution_count": null,
   "id": "2543ea7a",
   "metadata": {
    "execution": {
     "iopub.execute_input": "2023-10-11T09:27:44.763971Z",
     "iopub.status.busy": "2023-10-11T09:27:44.763616Z",
     "iopub.status.idle": "2023-10-11T09:27:50.534816Z",
     "shell.execute_reply": "2023-10-11T09:27:50.533958Z"
    },
    "papermill": {
     "duration": 5.788935,
     "end_time": "2023-10-11T09:27:50.541316",
     "exception": false,
     "start_time": "2023-10-11T09:27:44.752381",
     "status": "completed"
    },
    "tags": []
   },
   "outputs": [],
   "source": [
    "# -------- PRINT GENERATED IMAGES -------- #\n",
    "\n",
    "gen_output = generator(inp[tf.newaxis, ...], training=False)\n",
    "plt.imshow(gen_output[0, ...])"
   ]
  },
  {
   "cell_type": "code",
   "execution_count": null,
   "id": "d861b413",
   "metadata": {
    "execution": {
     "iopub.execute_input": "2023-10-11T09:27:50.575843Z",
     "iopub.status.busy": "2023-10-11T09:27:50.574858Z",
     "iopub.status.idle": "2023-10-11T09:27:50.579847Z",
     "shell.execute_reply": "2023-10-11T09:27:50.578958Z"
    },
    "papermill": {
     "duration": 0.024698,
     "end_time": "2023-10-11T09:27:50.581789",
     "exception": false,
     "start_time": "2023-10-11T09:27:50.557091",
     "status": "completed"
    },
    "tags": []
   },
   "outputs": [],
   "source": [
    "loss_object = tf.keras.losses.BinaryCrossentropy(from_logits=True)"
   ]
  },
  {
   "cell_type": "code",
   "execution_count": null,
   "id": "cab4b9b6",
   "metadata": {
    "execution": {
     "iopub.execute_input": "2023-10-11T09:27:50.615576Z",
     "iopub.status.busy": "2023-10-11T09:27:50.614723Z",
     "iopub.status.idle": "2023-10-11T09:27:53.508708Z",
     "shell.execute_reply": "2023-10-11T09:27:53.507895Z"
    },
    "papermill": {
     "duration": 2.926875,
     "end_time": "2023-10-11T09:27:53.524379",
     "exception": false,
     "start_time": "2023-10-11T09:27:50.597504",
     "status": "completed"
    },
    "tags": []
   },
   "outputs": [],
   "source": [
    "# -------------------------------- VGG LOSS -------------------------------- #\n",
    "\n",
    "loss_object = tf.keras.losses.BinaryCrossentropy(from_logits=True)\n",
    "\n",
    "vgg = VGG16(weights='imagenet', input_shape=(IMG_HEIGHT, IMG_WIDTH, OUTPUT_CHANNELS), include_top=False)\n",
    "\n",
    "vgg_relu3_3 = Model(vgg.input, vgg.layers[9].output) # or 13\n",
    "#vgg_relu3_3.summary()\n",
    "\n",
    "\n",
    "def normalize_tensor(in_feat):\n",
    "    norm_factor = tf.math.sqrt(tf.keras.backend.sum(in_feat**2, axis=-1, keepdims=True))\n",
    "    return in_feat / (norm_factor + 1e-10)\n",
    "\n",
    "\n",
    "def vgg_loss_3(y_true, y_pred):\n",
    "    true = vgg_relu3_3(preprocess_input(y_true * 255))\n",
    "    pred = vgg_relu3_3(preprocess_input(y_pred * 255))    \n",
    "\n",
    "    t = normalize_tensor(true)\n",
    "    p = normalize_tensor(pred)\n",
    "    loss = tf.math.reduce_mean(tf.math.square(t - p))\n",
    "    \n",
    "    return loss\n",
    "\n",
    "\n",
    "def l1_loss(y_true, y_pred) :\n",
    "    return tf.reduce_mean(tf.abs(y_true - y_pred))\n",
    "\n",
    "\n",
    "def l2_loss(y_true, y_pred) :\n",
    "    return tf.reduce_mean(tf.square(y_true - y_pred))\n",
    "\n",
    "\n",
    "def ssim_loss(y_true, y_pred) :\n",
    "    return (1 - tf.reduce_mean(ssim(y_true, y_pred, max_val=1.0)))"
   ]
  },
  {
   "cell_type": "code",
   "execution_count": null,
   "id": "61ad54a6",
   "metadata": {
    "execution": {
     "iopub.execute_input": "2023-10-11T09:27:53.565866Z",
     "iopub.status.busy": "2023-10-11T09:27:53.565508Z",
     "iopub.status.idle": "2023-10-11T09:27:53.570170Z",
     "shell.execute_reply": "2023-10-11T09:27:53.569187Z"
    },
    "papermill": {
     "duration": 0.028006,
     "end_time": "2023-10-11T09:27:53.571845",
     "exception": false,
     "start_time": "2023-10-11T09:27:53.543839",
     "status": "completed"
    },
    "tags": []
   },
   "outputs": [],
   "source": [
    "def generator_loss(gen_output, target):\n",
    "    \n",
    "    # ------- l1 loss ------- #\n",
    "    return l1_loss(target, gen_output)"
   ]
  },
  {
   "cell_type": "code",
   "execution_count": null,
   "id": "712b732d",
   "metadata": {
    "execution": {
     "iopub.execute_input": "2023-10-11T09:27:53.660422Z",
     "iopub.status.busy": "2023-10-11T09:27:53.659743Z",
     "iopub.status.idle": "2023-10-11T09:27:53.664923Z",
     "shell.execute_reply": "2023-10-11T09:27:53.663855Z"
    },
    "papermill": {
     "duration": 0.076301,
     "end_time": "2023-10-11T09:27:53.666767",
     "exception": false,
     "start_time": "2023-10-11T09:27:53.590466",
     "status": "completed"
    },
    "tags": []
   },
   "outputs": [],
   "source": [
    "def validation_step(generator, validation_ds) :\n",
    "    val_error = []\n",
    "    for input_image, target in validation_ds:\n",
    "        \n",
    "        gen_output = generator(input_image, training=False)\n",
    "        loss = generator_loss(gen_output, target)\n",
    "        val_error.append(loss)\n",
    "        \n",
    "    return np.mean(val_error)"
   ]
  },
  {
   "cell_type": "code",
   "execution_count": null,
   "id": "c72fce0e",
   "metadata": {
    "execution": {
     "iopub.execute_input": "2023-10-11T09:27:53.710193Z",
     "iopub.status.busy": "2023-10-11T09:27:53.709818Z",
     "iopub.status.idle": "2023-10-11T09:27:53.714491Z",
     "shell.execute_reply": "2023-10-11T09:27:53.713415Z"
    },
    "papermill": {
     "duration": 0.029447,
     "end_time": "2023-10-11T09:27:53.716274",
     "exception": false,
     "start_time": "2023-10-11T09:27:53.686827",
     "status": "completed"
    },
    "tags": []
   },
   "outputs": [],
   "source": [
    "def save_models(string, generator) :\n",
    "    generator.save('models/' + string)\n",
    "    return"
   ]
  },
  {
   "cell_type": "code",
   "execution_count": null,
   "id": "963d51ad",
   "metadata": {
    "execution": {
     "iopub.execute_input": "2023-10-11T09:27:53.758301Z",
     "iopub.status.busy": "2023-10-11T09:27:53.757901Z",
     "iopub.status.idle": "2023-10-11T09:27:53.767186Z",
     "shell.execute_reply": "2023-10-11T09:27:53.766252Z"
    },
    "papermill": {
     "duration": 0.032911,
     "end_time": "2023-10-11T09:27:53.769057",
     "exception": false,
     "start_time": "2023-10-11T09:27:53.736146",
     "status": "completed"
    },
    "tags": []
   },
   "outputs": [],
   "source": [
    "generator_optimizer = tf.keras.optimizers.Adam(2e-4, beta_1=0.5)"
   ]
  },
  {
   "cell_type": "code",
   "execution_count": null,
   "id": "370fb028",
   "metadata": {
    "execution": {
     "iopub.execute_input": "2023-10-11T09:27:53.811084Z",
     "iopub.status.busy": "2023-10-11T09:27:53.810085Z",
     "iopub.status.idle": "2023-10-11T09:27:53.816975Z",
     "shell.execute_reply": "2023-10-11T09:27:53.816117Z"
    },
    "papermill": {
     "duration": 0.030162,
     "end_time": "2023-10-11T09:27:53.818814",
     "exception": false,
     "start_time": "2023-10-11T09:27:53.788652",
     "status": "completed"
    },
    "tags": []
   },
   "outputs": [],
   "source": [
    "def generate_images(model, test_input, tar):\n",
    "    prediction = model(test_input, training=True)\n",
    "    plt.figure(figsize=(15, 15))\n",
    "\n",
    "    display_list = [test_input[0], tar[0], prediction[0]]\n",
    "    title = ['Input Image', 'Ground Truth', 'Predicted Image']\n",
    "\n",
    "    for i in range(3):\n",
    "        plt.subplot(1, 3, i+1)\n",
    "        plt.title(title[i])\n",
    "        \n",
    "        # Getting the pixel values in the [0, 1] range to plot.\n",
    "        plt.imshow(display_list[i] * 0.5 + 0.5)\n",
    "        plt.axis('off')\n",
    "    \n",
    "    plt.show()"
   ]
  },
  {
   "cell_type": "code",
   "execution_count": null,
   "id": "f426d963",
   "metadata": {
    "execution": {
     "iopub.execute_input": "2023-10-11T09:27:53.860135Z",
     "iopub.status.busy": "2023-10-11T09:27:53.859787Z",
     "iopub.status.idle": "2023-10-11T09:27:53.866196Z",
     "shell.execute_reply": "2023-10-11T09:27:53.865106Z"
    },
    "papermill": {
     "duration": 0.02992,
     "end_time": "2023-10-11T09:27:53.868153",
     "exception": false,
     "start_time": "2023-10-11T09:27:53.838233",
     "status": "completed"
    },
    "tags": []
   },
   "outputs": [],
   "source": [
    "def save_images(model, test_input, tar, step):\n",
    "    prediction = model(test_input, training=True)\n",
    "    plt.figure(figsize=(15, 15))\n",
    "\n",
    "    display_list = [test_input[0], tar[0], prediction[0]]\n",
    "    title = ['Input Image', 'Ground Truth', 'Predicted Image']\n",
    "\n",
    "    for i in range(3):\n",
    "        plt.subplot(1, 3, i+1)\n",
    "        plt.title(title[i])\n",
    "        \n",
    "        # Getting the pixel values in the [0, 1] range to plot.\n",
    "        plt.imshow(display_list[i] * 0.5 + 0.5)\n",
    "        plt.axis('off')\n",
    "    #plt.show()\n",
    "    filename = 'image_' + str(step) + '.jpg'\n",
    "    plt.savefig(filename)"
   ]
  },
  {
   "cell_type": "code",
   "execution_count": null,
   "id": "2467998c",
   "metadata": {
    "execution": {
     "iopub.execute_input": "2023-10-11T09:27:53.960714Z",
     "iopub.status.busy": "2023-10-11T09:27:53.959720Z",
     "iopub.status.idle": "2023-10-11T09:27:53.970798Z",
     "shell.execute_reply": "2023-10-11T09:27:53.969958Z"
    },
    "papermill": {
     "duration": 0.034471,
     "end_time": "2023-10-11T09:27:53.972793",
     "exception": false,
     "start_time": "2023-10-11T09:27:53.938322",
     "status": "completed"
    },
    "tags": []
   },
   "outputs": [],
   "source": [
    "summary_writer = tf.summary.create_file_writer(\n",
    "    LOG_DIR + datetime.datetime.now().strftime(\"%Y%m%d-%H%M%S\"))"
   ]
  },
  {
   "cell_type": "code",
   "execution_count": null,
   "id": "b75b2409",
   "metadata": {
    "execution": {
     "iopub.execute_input": "2023-10-11T09:27:54.015706Z",
     "iopub.status.busy": "2023-10-11T09:27:54.014690Z",
     "iopub.status.idle": "2023-10-11T09:27:54.021434Z",
     "shell.execute_reply": "2023-10-11T09:27:54.020544Z"
    },
    "papermill": {
     "duration": 0.030412,
     "end_time": "2023-10-11T09:27:54.023162",
     "exception": false,
     "start_time": "2023-10-11T09:27:53.992750",
     "status": "completed"
    },
    "tags": []
   },
   "outputs": [],
   "source": [
    "@tf.function\n",
    "def train_step(input_image, target, step):\n",
    "    with tf.GradientTape() as gen_tape :\n",
    "        gen_output = generator(input_image, training=True)\n",
    "\n",
    "        gen_l1_loss = generator_loss(gen_output, target)\n",
    "\n",
    "    generator_gradients = gen_tape.gradient(gen_l1_loss,\n",
    "                                          generator.trainable_variables)\n",
    "    \n",
    "    generator_optimizer.apply_gradients(zip(generator_gradients,\n",
    "                                          generator.trainable_variables))\n",
    "\n",
    "    with summary_writer.as_default():\n",
    "        tf.summary.scalar('gen_loss', gen_l1_loss, step=step//trainingset_size)"
   ]
  },
  {
   "cell_type": "code",
   "execution_count": null,
   "id": "899ee170",
   "metadata": {
    "execution": {
     "iopub.execute_input": "2023-10-11T09:27:54.065069Z",
     "iopub.status.busy": "2023-10-11T09:27:54.064099Z",
     "iopub.status.idle": "2023-10-11T09:27:54.072643Z",
     "shell.execute_reply": "2023-10-11T09:27:54.071783Z"
    },
    "papermill": {
     "duration": 0.032289,
     "end_time": "2023-10-11T09:27:54.074499",
     "exception": false,
     "start_time": "2023-10-11T09:27:54.042210",
     "status": "completed"
    },
    "tags": []
   },
   "outputs": [],
   "source": [
    "def fit(train_ds, validation_ds, test_ds, steps):\n",
    "    \n",
    "    example_input, example_target = next(iter(test_ds.take(1)))\n",
    "    start = time.time()\n",
    "    min_val_error = float(\"inf\")\n",
    "    count = 0\n",
    "\n",
    "    for step, (input_image, target) in train_ds.repeat().take(steps).enumerate():\n",
    "        \n",
    "        if (step) % trainingset_size == 0:\n",
    "            display.clear_output(wait=True)\n",
    "\n",
    "            if step != 0:\n",
    "                print(f'Time taken for an epoch: {time.time()-start:.2f} sec\\n')\n",
    "\n",
    "            start = time.time()\n",
    "\n",
    "            generate_images(generator, example_input, example_target)\n",
    "            print(f\"Step: {step//trainingset_size}k\")\n",
    "            \n",
    "            \n",
    "        train_step(input_image, target, step)\n",
    "        \n",
    "        if ((count +1) % trainingset_size) == 0 and ((count +1) >= (trainingset_size * VALIDATION_START_EPOCHS)) :\n",
    "            val_error = validation_step(generator, validation_ds)\n",
    "            if val_error < min_val_error :\n",
    "                min_val_error = val_error\n",
    "\n",
    "                # the last one has the best performance\n",
    "                filename = 'best_' + str(step) + '.h5'\n",
    "                save_images(generator, example_input, example_target, count+1)\n",
    "                save_models(filename, generator)\n",
    "                \n",
    "        # Training step\n",
    "        if (step+1) % 10 == 0:\n",
    "            print('.', end='', flush=True)\n",
    "               \n",
    "        count = count +1 "
   ]
  },
  {
   "cell_type": "code",
   "execution_count": null,
   "id": "05b80737",
   "metadata": {
    "execution": {
     "iopub.execute_input": "2023-10-11T09:27:54.115030Z",
     "iopub.status.busy": "2023-10-11T09:27:54.114606Z",
     "iopub.status.idle": "2023-10-11T21:20:43.981940Z",
     "shell.execute_reply": "2023-10-11T21:20:43.980970Z"
    },
    "papermill": {
     "duration": 42769.891539,
     "end_time": "2023-10-11T21:20:43.984902",
     "exception": false,
     "start_time": "2023-10-11T09:27:54.093363",
     "status": "completed"
    },
    "tags": []
   },
   "outputs": [],
   "source": [
    "fit(train_dataset, validation_dataset, test_dataset, steps= NSTEPS)\n",
    "save_models('last_model_.h5', generator)"
   ]
  }
 ],
 "metadata": {
  "kernelspec": {
   "display_name": "Python 3",
   "language": "python",
   "name": "python3"
  },
  "language_info": {
   "codemirror_mode": {
    "name": "ipython",
    "version": 3
   },
   "file_extension": ".py",
   "mimetype": "text/x-python",
   "name": "python",
   "nbconvert_exporter": "python",
   "pygments_lexer": "ipython3",
   "version": "3.11.5"
  },
  "papermill": {
   "default_parameters": {},
   "duration": 42822.800413,
   "end_time": "2023-10-11T21:20:47.581977",
   "environment_variables": {},
   "exception": null,
   "input_path": "__notebook__.ipynb",
   "output_path": "__notebook__.ipynb",
   "parameters": {},
   "start_time": "2023-10-11T09:27:04.781564",
   "version": "2.4.0"
  }
 },
 "nbformat": 4,
 "nbformat_minor": 5
}
