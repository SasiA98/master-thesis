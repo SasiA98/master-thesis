{
 "cells": [
  {
   "cell_type": "code",
   "execution_count": null,
   "id": "8ce63826",
   "metadata": {
    "_cell_guid": "b1076dfc-b9ad-4769-8c92-a6c4dae69d19",
    "_uuid": "8f2839f25d086af736a60e9eeb907d3b93b6e0e5",
    "execution": {
     "iopub.execute_input": "2023-10-10T20:59:09.697287Z",
     "iopub.status.busy": "2023-10-10T20:59:09.696981Z",
     "iopub.status.idle": "2023-10-10T20:59:18.809332Z",
     "shell.execute_reply": "2023-10-10T20:59:18.808399Z"
    },
    "papermill": {
     "duration": 9.122541,
     "end_time": "2023-10-10T20:59:18.811454",
     "exception": false,
     "start_time": "2023-10-10T20:59:09.688913",
     "status": "completed"
    },
    "tags": []
   },
   "outputs": [],
   "source": [
    "from matplotlib import pyplot as plt\n",
    "import numpy as np\n",
    "from keras.models import Model\n",
    "from tensorflow.image import ssim\n",
    "from tensorflow.keras.applications.vgg16 import VGG16, preprocess_input\n",
    "from IPython import display\n",
    "import tensorflow as tf\n",
    "import os\n",
    "import pathlib\n",
    "import time\n",
    "import datetime\n",
    "import glob\n",
    "import gc\n",
    "\n",
    "\n",
    "DATASET_PATH = 'task_1/dataset/processed_mirror_hk_dataset_320x256_ac_4/'\n",
    "\n",
    "BATCH_SIZE = 4\n",
    "\n",
    "IMG_WIDTH = 320\n",
    "IMG_HEIGHT = 256\n",
    "\n",
    "\n",
    "# --------------------------------------------------------------------------------------------------------------- #\n",
    "\n",
    "# data distribution \n",
    "\n",
    "# 209 subjects \n",
    "# 150 training   72%\n",
    "# 30 validation  14%\n",
    "# 29 testing     14%\n",
    "\n",
    "# split in train - validation - test\n",
    "\n",
    "training_files = glob.glob(DATASET_PATH + 'train/*.png')\n",
    "test_files = glob.glob(DATASET_PATH + 'test/*.png')\n",
    "test_files.sort()\n",
    "trainingset_size = len(training_files)\n",
    "\n",
    "validation_files = []\n",
    "new_test_files = []\n",
    "len_file = len(test_files[1])\n",
    "\n",
    "i=0\n",
    "for file in test_files:\n",
    "    sub = test_files[i][len_file-11:len_file-8]\n",
    "    if int(sub) <= 180 :\n",
    "        validation_files.append(file)\n",
    "    else :\n",
    "        new_test_files.append(file)\n",
    "    i = i+1\n",
    "\n",
    "\n",
    "validationset_size = len(validation_files)\n",
    "\n",
    "test_files = new_test_files\n",
    "testset_size = len(test_files)\n",
    "\n",
    "DATASET_PATH  = pathlib.Path(DATASET_PATH)\n",
    "\n",
    "# --------------------------------------------------------------------------------------------------------------- #\n",
    "\n",
    "\n",
    "EPOCHS = 140\n",
    "VALIDATION_START_EPOCHS = 80\n",
    "\n",
    "NSTEPS = trainingset_size * EPOCHS\n",
    "\n",
    "# dataset is made of RBG images \n",
    "OUTPUT_CHANNELS = 3\n",
    "\n",
    "# generator loss function hyperparameter \n",
    "LAMBDA_P = 100\n",
    "\n",
    "BUFFER_SIZE = trainingset_size\n",
    "\n",
    "# log directory \n",
    "LOG_DIR = \"logs/\" + '_nsteps_' + str(NSTEPS) + '_bs_' + str(BATCH_SIZE)  + '/'"
   ]
  },
  {
   "cell_type": "code",
   "execution_count": null,
   "id": "9e7e94e0",
   "metadata": {
    "execution": {
     "iopub.execute_input": "2023-10-10T20:59:18.826120Z",
     "iopub.status.busy": "2023-10-10T20:59:18.824967Z",
     "iopub.status.idle": "2023-10-10T20:59:18.830527Z",
     "shell.execute_reply": "2023-10-10T20:59:18.829711Z"
    },
    "papermill": {
     "duration": 0.014145,
     "end_time": "2023-10-10T20:59:18.832172",
     "exception": false,
     "start_time": "2023-10-10T20:59:18.818027",
     "status": "completed"
    },
    "tags": []
   },
   "outputs": [],
   "source": [
    "def load(image_file):\n",
    "    # Read and decode an image file to a uint8 tensor\n",
    "    image = tf.io.read_file(image_file)\n",
    "    image = tf.io.decode_png(image)\n",
    "\n",
    "\n",
    "    # Split each image tensor into two tensors:\n",
    "    # - one with a real building facade image\n",
    "    # - one with an architecture label image \n",
    "    w = tf.shape(image)[1]\n",
    "    w = w // 2\n",
    "\n",
    "    input_image = image[:, :w, :]\n",
    "    real_image = image[:, w:, :]\n",
    "\n",
    "    # Convert both images to float32 tensors\n",
    "    input_image = tf.cast(input_image, tf.float32)\n",
    "    real_image = tf.cast(real_image, tf.float32)\n",
    "\n",
    "    return input_image, real_image"
   ]
  },
  {
   "cell_type": "code",
   "execution_count": null,
   "id": "f9167fa1",
   "metadata": {
    "execution": {
     "iopub.execute_input": "2023-10-10T20:59:18.845412Z",
     "iopub.status.busy": "2023-10-10T20:59:18.845064Z",
     "iopub.status.idle": "2023-10-10T20:59:18.849461Z",
     "shell.execute_reply": "2023-10-10T20:59:18.848556Z"
    },
    "papermill": {
     "duration": 0.012799,
     "end_time": "2023-10-10T20:59:18.851122",
     "exception": false,
     "start_time": "2023-10-10T20:59:18.838323",
     "status": "completed"
    },
    "tags": []
   },
   "outputs": [],
   "source": [
    "def resize(input_image, real_image, height, width):\n",
    "    input_image = tf.image.resize(input_image, [height, width],\n",
    "                                method=tf.image.ResizeMethod.NEAREST_NEIGHBOR)\n",
    "    real_image = tf.image.resize(real_image, [height, width],\n",
    "                               method=tf.image.ResizeMethod.NEAREST_NEIGHBOR)\n",
    "    \n",
    "    return input_image, real_image"
   ]
  },
  {
   "cell_type": "code",
   "execution_count": null,
   "id": "71627405",
   "metadata": {},
   "outputs": [],
   "source": [
    "inp, re = load(training_files[1])\n",
    "#inp, re = resize(inp,re, IMG_WIDTH,IMG_HEIGHT)\n",
    "\n",
    "plt.figure(figsize=(6, 6))\n",
    "\n",
    "display_list = [(inp / 255.0), (re / 255.0)]\n",
    "title = ['Input Image', 'Ground Truth']\n",
    "\n",
    "for i in range(2):\n",
    "    plt.subplot(1, 2, i+1)\n",
    "    plt.title(title[i])\n",
    "    plt.imshow(display_list[i])\n",
    "    plt.axis('off')\n",
    "\n",
    "plt.show()"
   ]
  },
  {
   "cell_type": "code",
   "execution_count": null,
   "id": "cae088ba",
   "metadata": {
    "execution": {
     "iopub.execute_input": "2023-10-10T20:59:22.562908Z",
     "iopub.status.busy": "2023-10-10T20:59:22.562604Z",
     "iopub.status.idle": "2023-10-10T20:59:22.567151Z",
     "shell.execute_reply": "2023-10-10T20:59:22.566284Z"
    },
    "papermill": {
     "duration": 0.014225,
     "end_time": "2023-10-10T20:59:22.568786",
     "exception": false,
     "start_time": "2023-10-10T20:59:22.554561",
     "status": "completed"
    },
    "tags": []
   },
   "outputs": [],
   "source": [
    "def random_crop(input_image, real_image):\n",
    "    stacked_image = tf.stack([input_image, real_image], axis=0)\n",
    "    cropped_image = tf.image.random_crop(\n",
    "        stacked_image, size=[2, IMG_HEIGHT, IMG_WIDTH, 3])\n",
    "\n",
    "    return cropped_image[0], cropped_image[1]"
   ]
  },
  {
   "cell_type": "code",
   "execution_count": null,
   "id": "aecbbb82",
   "metadata": {
    "execution": {
     "iopub.execute_input": "2023-10-10T20:59:22.584081Z",
     "iopub.status.busy": "2023-10-10T20:59:22.583499Z",
     "iopub.status.idle": "2023-10-10T20:59:22.587764Z",
     "shell.execute_reply": "2023-10-10T20:59:22.587255Z"
    },
    "papermill": {
     "duration": 0.013605,
     "end_time": "2023-10-10T20:59:22.589245",
     "exception": false,
     "start_time": "2023-10-10T20:59:22.575640",
     "status": "completed"
    },
    "tags": []
   },
   "outputs": [],
   "source": [
    "# Normalizing the images to [-1, 1]\n",
    "def normalize(input_image, real_image):\n",
    "    input_image = (input_image / 127.5) - 1\n",
    "    real_image = (real_image / 127.5) - 1\n",
    "\n",
    "    return input_image, real_image"
   ]
  },
  {
   "cell_type": "code",
   "execution_count": null,
   "id": "78577720",
   "metadata": {
    "execution": {
     "iopub.execute_input": "2023-10-10T20:59:22.604446Z",
     "iopub.status.busy": "2023-10-10T20:59:22.604181Z",
     "iopub.status.idle": "2023-10-10T20:59:22.608947Z",
     "shell.execute_reply": "2023-10-10T20:59:22.608070Z"
    },
    "papermill": {
     "duration": 0.014456,
     "end_time": "2023-10-10T20:59:22.610586",
     "exception": false,
     "start_time": "2023-10-10T20:59:22.596130",
     "status": "completed"
    },
    "tags": []
   },
   "outputs": [],
   "source": [
    "@tf.function()\n",
    "def random_jitter(input_image, real_image):\n",
    "    # Resizing to 286x286\n",
    "    jitter_offset = 30\n",
    "    input_image, real_image = resize(input_image, real_image, IMG_HEIGHT + jitter_offset, IMG_WIDTH + jitter_offset)\n",
    "\n",
    "    # Random cropping back to 256x256\n",
    "    input_image, real_image = random_crop(input_image, real_image)\n",
    "\n",
    "    if tf.random.uniform(()) > 0.5:\n",
    "        # Random mirroring\n",
    "        input_image = tf.image.flip_left_right(input_image)\n",
    "        real_image = tf.image.flip_left_right(real_image)\n",
    "\n",
    "    return input_image, real_image"
   ]
  },
  {
   "cell_type": "code",
   "execution_count": null,
   "id": "09a40deb",
   "metadata": {
    "execution": {
     "iopub.execute_input": "2023-10-10T20:59:22.625929Z",
     "iopub.status.busy": "2023-10-10T20:59:22.625470Z",
     "iopub.status.idle": "2023-10-10T20:59:22.629451Z",
     "shell.execute_reply": "2023-10-10T20:59:22.628698Z"
    },
    "papermill": {
     "duration": 0.013576,
     "end_time": "2023-10-10T20:59:22.631123",
     "exception": false,
     "start_time": "2023-10-10T20:59:22.617547",
     "status": "completed"
    },
    "tags": []
   },
   "outputs": [],
   "source": [
    "# -------- PRINT JITTERED IMAGES -------- #\n",
    "\n",
    "# plt.figure(figsize=(6, 6))\n",
    "# for i in range(4):\n",
    "#     rj_inp, rj_re = random_jitter(inp, re)\n",
    "#     plt.subplot(2, 2, i + 1)\n",
    "#     plt.imshow(rj_inp / 255.0)\n",
    "#     plt.axis('off')\n",
    "# plt.show()"
   ]
  },
  {
   "cell_type": "code",
   "execution_count": null,
   "id": "b3fb7e38",
   "metadata": {
    "execution": {
     "iopub.execute_input": "2023-10-10T20:59:22.646422Z",
     "iopub.status.busy": "2023-10-10T20:59:22.646202Z",
     "iopub.status.idle": "2023-10-10T20:59:22.650278Z",
     "shell.execute_reply": "2023-10-10T20:59:22.649436Z"
    },
    "papermill": {
     "duration": 0.013906,
     "end_time": "2023-10-10T20:59:22.652105",
     "exception": false,
     "start_time": "2023-10-10T20:59:22.638199",
     "status": "completed"
    },
    "tags": []
   },
   "outputs": [],
   "source": [
    "def load_image_train(image_file):\n",
    "    input_image, real_image = load(image_file)\n",
    "    input_image, real_image = random_jitter(input_image, real_image)\n",
    "    input_image, real_image = normalize(input_image, real_image)\n",
    "\n",
    "    return input_image, real_image"
   ]
  },
  {
   "cell_type": "code",
   "execution_count": null,
   "id": "42fba007",
   "metadata": {
    "execution": {
     "iopub.execute_input": "2023-10-10T20:59:22.668236Z",
     "iopub.status.busy": "2023-10-10T20:59:22.667979Z",
     "iopub.status.idle": "2023-10-10T20:59:22.671910Z",
     "shell.execute_reply": "2023-10-10T20:59:22.671069Z"
    },
    "papermill": {
     "duration": 0.013467,
     "end_time": "2023-10-10T20:59:22.673524",
     "exception": false,
     "start_time": "2023-10-10T20:59:22.660057",
     "status": "completed"
    },
    "tags": []
   },
   "outputs": [],
   "source": [
    "def load_image_validation(image_file):\n",
    "    input_image, real_image = load(image_file)\n",
    "    input_image, real_image = normalize(input_image, real_image)\n",
    "    return input_image, real_image"
   ]
  },
  {
   "cell_type": "code",
   "execution_count": null,
   "id": "292a0c7b",
   "metadata": {
    "execution": {
     "iopub.execute_input": "2023-10-10T20:59:22.689739Z",
     "iopub.status.busy": "2023-10-10T20:59:22.689454Z",
     "iopub.status.idle": "2023-10-10T20:59:22.698385Z",
     "shell.execute_reply": "2023-10-10T20:59:22.697074Z"
    },
    "papermill": {
     "duration": 0.020468,
     "end_time": "2023-10-10T20:59:22.701248",
     "exception": false,
     "start_time": "2023-10-10T20:59:22.680780",
     "status": "completed"
    },
    "tags": []
   },
   "outputs": [],
   "source": [
    "def load_image_test(image_file):\n",
    "    input_image, real_image = load(image_file)\n",
    "    input_image, real_image = normalize(input_image, real_image)\n",
    "\n",
    "    return input_image, real_image"
   ]
  },
  {
   "cell_type": "code",
   "execution_count": null,
   "id": "3eb385e0",
   "metadata": {
    "execution": {
     "iopub.execute_input": "2023-10-10T20:59:22.730175Z",
     "iopub.status.busy": "2023-10-10T20:59:22.729900Z",
     "iopub.status.idle": "2023-10-10T20:59:23.879222Z",
     "shell.execute_reply": "2023-10-10T20:59:23.878345Z"
    },
    "papermill": {
     "duration": 1.165921,
     "end_time": "2023-10-10T20:59:23.882047",
     "exception": false,
     "start_time": "2023-10-10T20:59:22.716126",
     "status": "completed"
    },
    "tags": []
   },
   "outputs": [],
   "source": [
    "train_dataset = tf.data.Dataset.list_files(str(DATASET_PATH / 'train/*.png'))\n",
    "train_dataset = train_dataset.map(load_image_train,\n",
    "                                  num_parallel_calls=tf.data.AUTOTUNE)\n",
    "train_dataset = train_dataset.shuffle(BUFFER_SIZE)\n",
    "train_dataset = train_dataset.batch(BATCH_SIZE)"
   ]
  },
  {
   "cell_type": "code",
   "execution_count": null,
   "id": "875a5c88",
   "metadata": {
    "execution": {
     "iopub.execute_input": "2023-10-10T20:59:23.909795Z",
     "iopub.status.busy": "2023-10-10T20:59:23.909535Z",
     "iopub.status.idle": "2023-10-10T20:59:23.979022Z",
     "shell.execute_reply": "2023-10-10T20:59:23.978206Z"
    },
    "papermill": {
     "duration": 0.083238,
     "end_time": "2023-10-10T20:59:23.980758",
     "exception": false,
     "start_time": "2023-10-10T20:59:23.897520",
     "status": "completed"
    },
    "tags": []
   },
   "outputs": [],
   "source": [
    "validation_dataset = tf.data.Dataset.from_tensor_slices(validation_files)\n",
    "validation_dataset = validation_dataset.map(load_image_validation)\n",
    "validation_dataset = validation_dataset.batch(BATCH_SIZE)"
   ]
  },
  {
   "cell_type": "code",
   "execution_count": null,
   "id": "f3c3fa0b",
   "metadata": {
    "execution": {
     "iopub.execute_input": "2023-10-10T20:59:23.996363Z",
     "iopub.status.busy": "2023-10-10T20:59:23.996119Z",
     "iopub.status.idle": "2023-10-10T20:59:24.053619Z",
     "shell.execute_reply": "2023-10-10T20:59:24.052807Z"
    },
    "papermill": {
     "duration": 0.067141,
     "end_time": "2023-10-10T20:59:24.055384",
     "exception": false,
     "start_time": "2023-10-10T20:59:23.988243",
     "status": "completed"
    },
    "tags": []
   },
   "outputs": [],
   "source": [
    "test_dataset = tf.data.Dataset.from_tensor_slices(test_files)\n",
    "test_dataset = test_dataset.map(load_image_test,\n",
    "                                    num_parallel_calls=tf.data.AUTOTUNE)\n",
    "test_dataset = test_dataset.batch(1)"
   ]
  },
  {
   "cell_type": "code",
   "execution_count": null,
   "id": "bbbac71a",
   "metadata": {
    "execution": {
     "iopub.execute_input": "2023-10-10T20:59:24.070715Z",
     "iopub.status.busy": "2023-10-10T20:59:24.070484Z",
     "iopub.status.idle": "2023-10-10T20:59:45.956455Z",
     "shell.execute_reply": "2023-10-10T20:59:45.955295Z"
    },
    "papermill": {
     "duration": 21.896151,
     "end_time": "2023-10-10T20:59:45.958559",
     "exception": false,
     "start_time": "2023-10-10T20:59:24.062408",
     "status": "completed"
    },
    "tags": []
   },
   "outputs": [],
   "source": [
    "print(\"trainset size : \", len(list(train_dataset)))  \n",
    "print(\"validation size : \", len(list(validation_dataset)))    \n",
    "print(\"testset size : \", len(list(test_dataset)))"
   ]
  },
  {
   "cell_type": "code",
   "execution_count": null,
   "id": "932ef749",
   "metadata": {
    "execution": {
     "iopub.execute_input": "2023-10-10T20:59:45.975154Z",
     "iopub.status.busy": "2023-10-10T20:59:45.974863Z",
     "iopub.status.idle": "2023-10-10T20:59:45.980250Z",
     "shell.execute_reply": "2023-10-10T20:59:45.979387Z"
    },
    "papermill": {
     "duration": 0.015017,
     "end_time": "2023-10-10T20:59:45.981901",
     "exception": false,
     "start_time": "2023-10-10T20:59:45.966884",
     "status": "completed"
    },
    "tags": []
   },
   "outputs": [],
   "source": [
    "def downsample(filters, size, apply_batchnorm=True):\n",
    "    initializer = tf.random_normal_initializer(0., 0.02)\n",
    "    \n",
    "    result = tf.keras.Sequential()\n",
    "    result.add(tf.keras.layers.Conv2D(filters, size, strides=2, padding='same', kernel_initializer=initializer, use_bias=False))\n",
    "\n",
    "    if apply_batchnorm:\n",
    "        result.add(tf.keras.layers.BatchNormalization())\n",
    "\n",
    "    result.add(tf.keras.layers.LeakyReLU())\n",
    "\n",
    "    return result"
   ]
  },
  {
   "cell_type": "code",
   "execution_count": null,
   "id": "50c5f2ae",
   "metadata": {
    "execution": {
     "iopub.execute_input": "2023-10-10T20:59:45.997560Z",
     "iopub.status.busy": "2023-10-10T20:59:45.997329Z",
     "iopub.status.idle": "2023-10-10T20:59:46.000922Z",
     "shell.execute_reply": "2023-10-10T20:59:46.000054Z"
    },
    "papermill": {
     "duration": 0.013392,
     "end_time": "2023-10-10T20:59:46.002641",
     "exception": false,
     "start_time": "2023-10-10T20:59:45.989249",
     "status": "completed"
    },
    "tags": []
   },
   "outputs": [],
   "source": [
    "# -------- PRINT DOWNSAMPLED IMAGES -------- #\n",
    "\n",
    "# down_model = downsample(3, 4)\n",
    "# down_result = down_model(tf.expand_dims(inp, 0))\n",
    "# print (down_result.shape)"
   ]
  },
  {
   "cell_type": "code",
   "execution_count": null,
   "id": "295ac719",
   "metadata": {
    "execution": {
     "iopub.execute_input": "2023-10-10T20:59:46.018382Z",
     "iopub.status.busy": "2023-10-10T20:59:46.017692Z",
     "iopub.status.idle": "2023-10-10T20:59:46.023583Z",
     "shell.execute_reply": "2023-10-10T20:59:46.022796Z"
    },
    "papermill": {
     "duration": 0.01541,
     "end_time": "2023-10-10T20:59:46.025255",
     "exception": false,
     "start_time": "2023-10-10T20:59:46.009845",
     "status": "completed"
    },
    "tags": []
   },
   "outputs": [],
   "source": [
    "def upsample(filters, size, apply_dropout=False):\n",
    "    initializer = tf.random_normal_initializer(0., 0.02)\n",
    "\n",
    "    result = tf.keras.Sequential()\n",
    "    result.add(tf.keras.layers.Conv2DTranspose(filters, size, strides=2,\n",
    "                                    padding='same',\n",
    "                                    kernel_initializer=initializer,\n",
    "                                    use_bias=False))\n",
    "\n",
    "    result.add(tf.keras.layers.BatchNormalization())\n",
    "\n",
    "    if apply_dropout:\n",
    "        result.add(tf.keras.layers.Dropout(0.5))\n",
    "\n",
    "    result.add(tf.keras.layers.ReLU())\n",
    "\n",
    "    return result"
   ]
  },
  {
   "cell_type": "code",
   "execution_count": null,
   "id": "c77d1cd0",
   "metadata": {
    "execution": {
     "iopub.execute_input": "2023-10-10T20:59:46.040985Z",
     "iopub.status.busy": "2023-10-10T20:59:46.040185Z",
     "iopub.status.idle": "2023-10-10T20:59:46.044031Z",
     "shell.execute_reply": "2023-10-10T20:59:46.043265Z"
    },
    "papermill": {
     "duration": 0.013488,
     "end_time": "2023-10-10T20:59:46.045757",
     "exception": false,
     "start_time": "2023-10-10T20:59:46.032269",
     "status": "completed"
    },
    "tags": []
   },
   "outputs": [],
   "source": [
    "# -------- PRINT UPSAMPLES IMAGES -------- #\n",
    "\n",
    "# up_model = upsample(3, 4)\n",
    "# up_result = up_model(down_result)\n",
    "# print (up_result.shape)"
   ]
  },
  {
   "cell_type": "code",
   "execution_count": null,
   "id": "2aa3a571",
   "metadata": {
    "execution": {
     "iopub.execute_input": "2023-10-10T20:59:46.061640Z",
     "iopub.status.busy": "2023-10-10T20:59:46.060890Z",
     "iopub.status.idle": "2023-10-10T20:59:46.068968Z",
     "shell.execute_reply": "2023-10-10T20:59:46.068208Z"
    },
    "papermill": {
     "duration": 0.017823,
     "end_time": "2023-10-10T20:59:46.070638",
     "exception": false,
     "start_time": "2023-10-10T20:59:46.052815",
     "status": "completed"
    },
    "tags": []
   },
   "outputs": [],
   "source": [
    "def Generator():\n",
    "    inputs = tf.keras.layers.Input(shape=[IMG_HEIGHT, IMG_WIDTH, OUTPUT_CHANNELS])\n",
    "\n",
    "    down_stack = [\n",
    "        downsample(64, 4, apply_batchnorm=False),  \n",
    "        downsample(128, 4),  \n",
    "        downsample(256, 4), \n",
    "        downsample(512, 4), \n",
    "        downsample(512, 4), \n",
    "        downsample(512, 4),\n",
    "      ]\n",
    "\n",
    "    up_stack = [\n",
    "        upsample(512, 4, apply_dropout=True), \n",
    "        upsample(512, 4),\n",
    "        upsample(256, 4), \n",
    "        upsample(128, 4),  \n",
    "        upsample(64, 4),\n",
    "    ]\n",
    "\n",
    "    initializer = tf.random_normal_initializer(0., 0.02)\n",
    "    last = tf.keras.layers.Conv2DTranspose(OUTPUT_CHANNELS, 4,\n",
    "                                         strides=2,\n",
    "                                         padding='same',\n",
    "                                         kernel_initializer=initializer,\n",
    "                                         activation='tanh') \n",
    "\n",
    "    x = inputs\n",
    "\n",
    "    # Downsampling through the model\n",
    "    skips = []\n",
    "    for down in down_stack:\n",
    "        x = down(x)\n",
    "        skips.append(x)\n",
    "\n",
    "    skips = reversed(skips[:-1])\n",
    "\n",
    "    # Upsampling and establishing the skip connections\n",
    "    for up, skip in zip(up_stack, skips):\n",
    "        x = up(x)\n",
    "        x = tf.keras.layers.Concatenate()([x, skip])\n",
    "\n",
    "    x = last(x)\n",
    "\n",
    "    return tf.keras.Model(inputs=inputs, outputs=x)"
   ]
  },
  {
   "cell_type": "code",
   "execution_count": null,
   "id": "c18969a3",
   "metadata": {
    "execution": {
     "iopub.execute_input": "2023-10-10T20:59:46.088749Z",
     "iopub.status.busy": "2023-10-10T20:59:46.088521Z",
     "iopub.status.idle": "2023-10-10T20:59:46.769604Z",
     "shell.execute_reply": "2023-10-10T20:59:46.768728Z"
    },
    "papermill": {
     "duration": 0.692432,
     "end_time": "2023-10-10T20:59:46.772632",
     "exception": false,
     "start_time": "2023-10-10T20:59:46.080200",
     "status": "completed"
    },
    "tags": []
   },
   "outputs": [],
   "source": [
    "generator = Generator()\n",
    "tf.keras.utils.plot_model(generator, show_shapes=True, dpi=64)"
   ]
  },
  {
   "cell_type": "code",
   "execution_count": null,
   "id": "ff088bf5",
   "metadata": {
    "execution": {
     "iopub.execute_input": "2023-10-10T20:59:46.792755Z",
     "iopub.status.busy": "2023-10-10T20:59:46.792499Z",
     "iopub.status.idle": "2023-10-10T20:59:52.877594Z",
     "shell.execute_reply": "2023-10-10T20:59:52.876781Z"
    },
    "papermill": {
     "duration": 6.10139,
     "end_time": "2023-10-10T20:59:52.883559",
     "exception": false,
     "start_time": "2023-10-10T20:59:46.782169",
     "status": "completed"
    },
    "tags": []
   },
   "outputs": [],
   "source": [
    "# -------- PRINT GENERATED IMAGES -------- #\n",
    "\n",
    "gen_output = generator(inp[tf.newaxis, ...], training=False)\n",
    "plt.imshow(gen_output[0, ...])"
   ]
  },
  {
   "cell_type": "code",
   "execution_count": null,
   "id": "016709b0",
   "metadata": {
    "execution": {
     "iopub.execute_input": "2023-10-10T20:59:52.916701Z",
     "iopub.status.busy": "2023-10-10T20:59:52.916421Z",
     "iopub.status.idle": "2023-10-10T20:59:53.676062Z",
     "shell.execute_reply": "2023-10-10T20:59:53.675269Z"
    },
    "papermill": {
     "duration": 0.790544,
     "end_time": "2023-10-10T20:59:53.689950",
     "exception": false,
     "start_time": "2023-10-10T20:59:52.899406",
     "status": "completed"
    },
    "tags": []
   },
   "outputs": [],
   "source": [
    "# -------------------------------- VGG LOSS -------------------------------- #\n",
    "\n",
    "loss_object = tf.keras.losses.BinaryCrossentropy(from_logits=True)\n",
    "\n",
    "vgg = VGG16(weights='imagenet', input_shape=(IMG_HEIGHT, IMG_WIDTH, OUTPUT_CHANNELS), include_top=False)\n",
    "\n",
    "vgg_relu3_3 = Model(vgg.input, vgg.layers[9].output) # or 13\n",
    "#vgg_relu3_3.summary()\n",
    "\n",
    "\n",
    "def normalize_tensor(in_feat):\n",
    "    norm_factor = tf.math.sqrt(tf.keras.backend.sum(in_feat**2, axis=-1, keepdims=True))\n",
    "    return in_feat / (norm_factor + 1e-10)\n",
    "\n",
    "\n",
    "def vgg_loss_3(y_true, y_pred):\n",
    "    true = vgg_relu3_3(preprocess_input(y_true * 255))\n",
    "    pred = vgg_relu3_3(preprocess_input(y_pred * 255))    \n",
    "\n",
    "    t = normalize_tensor(true)\n",
    "    p = normalize_tensor(pred)\n",
    "    loss = tf.math.reduce_mean(tf.math.square(t - p))\n",
    "    \n",
    "    return loss\n",
    "\n",
    "\n",
    "def l1_loss(y_true, y_pred) :\n",
    "    return tf.reduce_mean(tf.abs(y_true - y_pred))\n",
    "\n",
    "\n",
    "def l2_loss(y_true, y_pred) :\n",
    "    return tf.reduce_mean(tf.square(y_true - y_pred))\n",
    "\n",
    "\n",
    "def ssim_loss(y_true, y_pred) :\n",
    "    return (1 - tf.reduce_mean(ssim(y_true, y_pred, max_val=1.0)))"
   ]
  },
  {
   "cell_type": "code",
   "execution_count": null,
   "id": "17848be2",
   "metadata": {
    "execution": {
     "iopub.execute_input": "2023-10-10T20:59:53.764763Z",
     "iopub.status.busy": "2023-10-10T20:59:53.764453Z",
     "iopub.status.idle": "2023-10-10T20:59:53.769560Z",
     "shell.execute_reply": "2023-10-10T20:59:53.768684Z"
    },
    "papermill": {
     "duration": 0.025374,
     "end_time": "2023-10-10T20:59:53.771405",
     "exception": false,
     "start_time": "2023-10-10T20:59:53.746031",
     "status": "completed"
    },
    "tags": []
   },
   "outputs": [],
   "source": [
    "def generator_loss(disc_generated_output, gen_output, target):\n",
    "    gan_loss = loss_object(tf.ones_like(disc_generated_output), disc_generated_output)\n",
    "\n",
    "    # when changing loss fuction, remember to up-to-date validation step\n",
    "\n",
    "    # -------------    MAE     ------------ #\n",
    "    error = l1_loss(target, gen_output)\n",
    "\n",
    "    # ------------- SSIM error ------------ #\n",
    "    #error = ssim_loss(target - gen_output)\n",
    "\n",
    "    # --------- perceptual loss ----------- #\n",
    "    #error = vgg_loss_3(target, gen_output)\n",
    "    \n",
    "    total_gen_loss = gan_loss + (LAMBDA_P * error)\n",
    "\n",
    "    return total_gen_loss, gan_loss, error"
   ]
  },
  {
   "cell_type": "code",
   "execution_count": null,
   "id": "f2469862",
   "metadata": {
    "execution": {
     "iopub.execute_input": "2023-10-10T20:59:53.807698Z",
     "iopub.status.busy": "2023-10-10T20:59:53.806847Z",
     "iopub.status.idle": "2023-10-10T20:59:53.814054Z",
     "shell.execute_reply": "2023-10-10T20:59:53.813314Z"
    },
    "papermill": {
     "duration": 0.027621,
     "end_time": "2023-10-10T20:59:53.815740",
     "exception": false,
     "start_time": "2023-10-10T20:59:53.788119",
     "status": "completed"
    },
    "tags": []
   },
   "outputs": [],
   "source": [
    "def Discriminator():\n",
    "    initializer = tf.random_normal_initializer(0., 0.02)\n",
    "\n",
    "    inp = tf.keras.layers.Input(shape=[IMG_HEIGHT, IMG_WIDTH, OUTPUT_CHANNELS], name='input_image')\n",
    "    tar = tf.keras.layers.Input(shape=[IMG_HEIGHT, IMG_WIDTH, OUTPUT_CHANNELS], name='target_image')\n",
    "\n",
    "    x = tf.keras.layers.concatenate([inp, tar]) \n",
    "\n",
    "    down1 = downsample(64, 4, False)(x)  \n",
    "    down2 = downsample(128, 4)(down1) \n",
    "    down3 = downsample(256, 4)(down2) \n",
    "\n",
    "    zero_pad1 = tf.keras.layers.ZeroPadding2D()(down3)\n",
    "    conv = tf.keras.layers.Conv2D(512, 4, strides=1,\n",
    "                                kernel_initializer=initializer,\n",
    "                                use_bias=False)(zero_pad1) \n",
    "\n",
    "    batchnorm1 = tf.keras.layers.BatchNormalization()(conv)\n",
    "\n",
    "    leaky_relu = tf.keras.layers.LeakyReLU()(batchnorm1)\n",
    "\n",
    "    zero_pad2 = tf.keras.layers.ZeroPadding2D()(leaky_relu)  \n",
    "\n",
    "    last = tf.keras.layers.Conv2D(1, 4, strides=1,\n",
    "                                kernel_initializer=initializer)(zero_pad2) \n",
    "\n",
    "    return tf.keras.Model(inputs=[inp, tar], outputs=last)"
   ]
  },
  {
   "cell_type": "code",
   "execution_count": null,
   "id": "42d96781",
   "metadata": {
    "execution": {
     "iopub.execute_input": "2023-10-10T20:59:53.851038Z",
     "iopub.status.busy": "2023-10-10T20:59:53.850782Z",
     "iopub.status.idle": "2023-10-10T20:59:54.108709Z",
     "shell.execute_reply": "2023-10-10T20:59:54.104460Z"
    },
    "papermill": {
     "duration": 0.278989,
     "end_time": "2023-10-10T20:59:54.111185",
     "exception": false,
     "start_time": "2023-10-10T20:59:53.832196",
     "status": "completed"
    },
    "tags": []
   },
   "outputs": [],
   "source": [
    "discriminator = Discriminator()\n",
    "tf.keras.utils.plot_model(discriminator, show_shapes=True, dpi=64)"
   ]
  },
  {
   "cell_type": "code",
   "execution_count": null,
   "id": "0bfa7100",
   "metadata": {
    "execution": {
     "iopub.execute_input": "2023-10-10T20:59:54.213231Z",
     "iopub.status.busy": "2023-10-10T20:59:54.212789Z",
     "iopub.status.idle": "2023-10-10T20:59:54.822699Z",
     "shell.execute_reply": "2023-10-10T20:59:54.821849Z"
    },
    "papermill": {
     "duration": 0.66586,
     "end_time": "2023-10-10T20:59:54.825522",
     "exception": false,
     "start_time": "2023-10-10T20:59:54.159662",
     "status": "completed"
    },
    "tags": []
   },
   "outputs": [],
   "source": [
    "# -------- PRINT DISCRIMINATOR OUTPUT  -------- #\n",
    "\n",
    "disc_out = discriminator([inp[tf.newaxis, ...], gen_output], training=False)\n",
    "plt.imshow(disc_out[0, ..., -1], vmin=-20, vmax=20, cmap='RdBu_r')\n",
    "plt.colorbar()"
   ]
  },
  {
   "cell_type": "code",
   "execution_count": null,
   "id": "8eb3b223",
   "metadata": {
    "execution": {
     "iopub.execute_input": "2023-10-10T20:59:54.894529Z",
     "iopub.status.busy": "2023-10-10T20:59:54.894202Z",
     "iopub.status.idle": "2023-10-10T20:59:54.899584Z",
     "shell.execute_reply": "2023-10-10T20:59:54.898776Z"
    },
    "papermill": {
     "duration": 0.043387,
     "end_time": "2023-10-10T20:59:54.903221",
     "exception": false,
     "start_time": "2023-10-10T20:59:54.859834",
     "status": "completed"
    },
    "tags": []
   },
   "outputs": [],
   "source": [
    "def discriminator_loss(disc_real_output, disc_generated_output):\n",
    "    real_loss = loss_object(tf.ones_like(disc_real_output), disc_real_output)\n",
    "\n",
    "    generated_loss = loss_object(tf.zeros_like(disc_generated_output), disc_generated_output)\n",
    "\n",
    "    total_disc_loss = real_loss + generated_loss\n",
    "\n",
    "    return total_disc_loss"
   ]
  },
  {
   "cell_type": "code",
   "execution_count": null,
   "id": "e8341aa6",
   "metadata": {
    "execution": {
     "iopub.execute_input": "2023-10-10T20:59:54.971393Z",
     "iopub.status.busy": "2023-10-10T20:59:54.971095Z",
     "iopub.status.idle": "2023-10-10T20:59:54.976560Z",
     "shell.execute_reply": "2023-10-10T20:59:54.975702Z"
    },
    "papermill": {
     "duration": 0.04353,
     "end_time": "2023-10-10T20:59:54.980176",
     "exception": false,
     "start_time": "2023-10-10T20:59:54.936646",
     "status": "completed"
    },
    "tags": []
   },
   "outputs": [],
   "source": [
    "def validation_step(generator, validation_ds) :\n",
    "    val_error = []\n",
    "    for input_image, target in validation_ds:\n",
    "        gen_output = generator(input_image, training=False)\n",
    "        \n",
    "        # ------- ssim loss ------- #\n",
    "        #loss = ssim_loss(target, gen_output)\n",
    "        \n",
    "        # ------- l1 loss ------- #\n",
    "        loss = l1_loss(target, gen_output)\n",
    "        \n",
    "        # ------- vgg loss ------- #\n",
    "        #loss = vgg_loss_3(target, gen_output)\n",
    "\n",
    "        val_error.append(loss)\n",
    "        \n",
    "    return np.mean(val_error)"
   ]
  },
  {
   "cell_type": "code",
   "execution_count": null,
   "id": "621eb303",
   "metadata": {
    "execution": {
     "iopub.execute_input": "2023-10-10T20:59:55.046454Z",
     "iopub.status.busy": "2023-10-10T20:59:55.046154Z",
     "iopub.status.idle": "2023-10-10T20:59:55.050197Z",
     "shell.execute_reply": "2023-10-10T20:59:55.049448Z"
    },
    "papermill": {
     "duration": 0.041257,
     "end_time": "2023-10-10T20:59:55.053781",
     "exception": false,
     "start_time": "2023-10-10T20:59:55.012524",
     "status": "completed"
    },
    "tags": []
   },
   "outputs": [],
   "source": [
    "def save_models(string, generator) :\n",
    "    generator.save('models/' + string)\n",
    "    return"
   ]
  },
  {
   "cell_type": "code",
   "execution_count": null,
   "id": "fb731932",
   "metadata": {
    "execution": {
     "iopub.execute_input": "2023-10-10T20:59:55.123464Z",
     "iopub.status.busy": "2023-10-10T20:59:55.123145Z",
     "iopub.status.idle": "2023-10-10T20:59:55.135928Z",
     "shell.execute_reply": "2023-10-10T20:59:55.134942Z"
    },
    "papermill": {
     "duration": 0.051488,
     "end_time": "2023-10-10T20:59:55.138246",
     "exception": false,
     "start_time": "2023-10-10T20:59:55.086758",
     "status": "completed"
    },
    "tags": []
   },
   "outputs": [],
   "source": [
    "generator_optimizer = tf.keras.optimizers.Adam(2e-4, beta_1=0.5)\n",
    "discriminator_optimizer = tf.keras.optimizers.Adam(2e-4, beta_1=0.5)"
   ]
  },
  {
   "cell_type": "code",
   "execution_count": null,
   "id": "ddc29d51",
   "metadata": {
    "execution": {
     "iopub.execute_input": "2023-10-10T20:59:55.203802Z",
     "iopub.status.busy": "2023-10-10T20:59:55.203519Z",
     "iopub.status.idle": "2023-10-10T20:59:55.241328Z",
     "shell.execute_reply": "2023-10-10T20:59:55.230559Z"
    },
    "papermill": {
     "duration": 0.078057,
     "end_time": "2023-10-10T20:59:55.248361",
     "exception": false,
     "start_time": "2023-10-10T20:59:55.170304",
     "status": "completed"
    },
    "tags": []
   },
   "outputs": [],
   "source": [
    "def generate_images(model, test_input, tar):\n",
    "    prediction = model(test_input, training=True)\n",
    "    plt.figure(figsize=(15, 15))\n",
    "\n",
    "    display_list = [test_input[0], tar[0], prediction[0]]\n",
    "    title = ['Input Image', 'Ground Truth', 'Predicted Image']\n",
    "\n",
    "    for i in range(3):\n",
    "        plt.subplot(1, 3, i+1)\n",
    "        plt.title(title[i])\n",
    "        \n",
    "        # Getting the pixel values in the [0, 1] range to plot.\n",
    "        plt.imshow(display_list[i] * 0.5 + 0.5)\n",
    "        plt.axis('off')\n",
    "    \n",
    "    plt.show()"
   ]
  },
  {
   "cell_type": "code",
   "execution_count": null,
   "id": "169f76fe",
   "metadata": {
    "execution": {
     "iopub.execute_input": "2023-10-10T20:59:55.387440Z",
     "iopub.status.busy": "2023-10-10T20:59:55.387078Z",
     "iopub.status.idle": "2023-10-10T20:59:55.395608Z",
     "shell.execute_reply": "2023-10-10T20:59:55.394820Z"
    },
    "papermill": {
     "duration": 0.09792,
     "end_time": "2023-10-10T20:59:55.397992",
     "exception": false,
     "start_time": "2023-10-10T20:59:55.300072",
     "status": "completed"
    },
    "tags": []
   },
   "outputs": [],
   "source": [
    "def save_images(model, test_input, tar, step):\n",
    "    prediction = model(test_input, training=True)\n",
    "    plt.figure(figsize=(15, 15))\n",
    "\n",
    "    display_list = [test_input[0], tar[0], prediction[0]]\n",
    "    title = ['Input Image', 'Ground Truth', 'Predicted Image']\n",
    "\n",
    "    for i in range(3):\n",
    "        plt.subplot(1, 3, i+1)\n",
    "        plt.title(title[i])\n",
    "        \n",
    "        # Getting the pixel values in the [0, 1] range to plot.\n",
    "        plt.imshow(display_list[i] * 0.5 + 0.5)\n",
    "        plt.axis('off')\n",
    "    #plt.show()\n",
    "    filename = 'image_' + str(step) + '.jpg'\n",
    "    plt.savefig(filename)"
   ]
  },
  {
   "cell_type": "code",
   "execution_count": null,
   "id": "353810a4",
   "metadata": {
    "execution": {
     "iopub.execute_input": "2023-10-10T20:59:55.541193Z",
     "iopub.status.busy": "2023-10-10T20:59:55.540871Z",
     "iopub.status.idle": "2023-10-10T20:59:55.551193Z",
     "shell.execute_reply": "2023-10-10T20:59:55.550456Z"
    },
    "papermill": {
     "duration": 0.047929,
     "end_time": "2023-10-10T20:59:55.553832",
     "exception": false,
     "start_time": "2023-10-10T20:59:55.505903",
     "status": "completed"
    },
    "tags": []
   },
   "outputs": [],
   "source": [
    "summary_writer = tf.summary.create_file_writer(\n",
    "    LOG_DIR + datetime.datetime.now().strftime(\"%Y%m%d-%H%M%S\"))"
   ]
  },
  {
   "cell_type": "code",
   "execution_count": null,
   "id": "a4e6267a",
   "metadata": {
    "execution": {
     "iopub.execute_input": "2023-10-10T20:59:55.622227Z",
     "iopub.status.busy": "2023-10-10T20:59:55.621886Z",
     "iopub.status.idle": "2023-10-10T20:59:55.633987Z",
     "shell.execute_reply": "2023-10-10T20:59:55.633251Z"
    },
    "papermill": {
     "duration": 0.048615,
     "end_time": "2023-10-10T20:59:55.636283",
     "exception": false,
     "start_time": "2023-10-10T20:59:55.587668",
     "status": "completed"
    },
    "tags": []
   },
   "outputs": [],
   "source": [
    "@tf.function\n",
    "def train_step(input_image, target, step):\n",
    "    with tf.GradientTape() as gen_tape, tf.GradientTape() as disc_tape:\n",
    "        gen_output = generator(input_image, training=True)\n",
    "\n",
    "        disc_real_output = discriminator([input_image, target], training=True)\n",
    "        disc_generated_output = discriminator([input_image, gen_output], training=True)\n",
    "\n",
    "        gen_total_loss, gen_gan_loss, gen_vgg_loss = generator_loss(disc_generated_output, gen_output, target)\n",
    "        disc_loss = discriminator_loss(disc_real_output, disc_generated_output)\n",
    "\n",
    "    generator_gradients = gen_tape.gradient(gen_total_loss,\n",
    "                                          generator.trainable_variables)\n",
    "    \n",
    "    discriminator_gradients = disc_tape.gradient(disc_loss,\n",
    "                                               discriminator.trainable_variables)\n",
    "\n",
    "    generator_optimizer.apply_gradients(zip(generator_gradients,\n",
    "                                          generator.trainable_variables))\n",
    "    discriminator_optimizer.apply_gradients(zip(discriminator_gradients,\n",
    "                                              discriminator.trainable_variables))\n",
    "\n",
    "    with summary_writer.as_default():\n",
    "        tf.summary.scalar('gen_total_loss', gen_total_loss, step=step//trainingset_size)\n",
    "        tf.summary.scalar('gen_gan_loss', gen_gan_loss, step=step//trainingset_size)\n",
    "        tf.summary.scalar('gen_vgg_loss', gen_vgg_loss, step=step//trainingset_size)\n",
    "        tf.summary.scalar('disc_loss', disc_loss, step=step//trainingset_size)"
   ]
  },
  {
   "cell_type": "code",
   "execution_count": null,
   "id": "73bb6457",
   "metadata": {
    "execution": {
     "iopub.execute_input": "2023-10-10T20:59:55.682439Z",
     "iopub.status.busy": "2023-10-10T20:59:55.681909Z",
     "iopub.status.idle": "2023-10-10T20:59:55.689371Z",
     "shell.execute_reply": "2023-10-10T20:59:55.688425Z"
    },
    "papermill": {
     "duration": 0.029377,
     "end_time": "2023-10-10T20:59:55.691056",
     "exception": false,
     "start_time": "2023-10-10T20:59:55.661679",
     "status": "completed"
    },
    "tags": []
   },
   "outputs": [],
   "source": [
    "def fit(train_ds, validation_ds, test_ds, steps):\n",
    "    \n",
    "    example_input, example_target = next(iter(test_ds.take(1)))\n",
    "    start = time.time()\n",
    "    min_val_error = float(\"inf\")\n",
    "    count = 0\n",
    "\n",
    "    for step, (input_image, target) in train_ds.repeat().take(steps).enumerate():\n",
    "        \n",
    "        if (step) % trainingset_size == 0:\n",
    "            display.clear_output(wait=True)\n",
    "\n",
    "            if step != 0:\n",
    "                print(f'Time taken for an epoch: {time.time()-start:.2f} sec\\n')\n",
    "\n",
    "            start = time.time()\n",
    "\n",
    "            generate_images(generator, example_input, example_target)\n",
    "            print(f\"Step: {step//trainingset_size}k\")\n",
    "\n",
    "        train_step(input_image, target, step)\n",
    "\n",
    "        if ((count +1) % trainingset_size) == 0 and ((count +1) >= (trainingset_size * VALIDATION_START_EPOCHS)) : \n",
    "            val_error = validation_step(generator, validation_ds)\n",
    "            \n",
    "            if val_error < min_val_error :\n",
    "                min_val_error = val_error\n",
    "\n",
    "                # the last one has the best performance\n",
    "                filename = 'best_' + str(count + 1) + '.h5'\n",
    "                save_images(generator, example_input, example_target, count+1)\n",
    "                save_models(filename, generator)\n",
    "                \n",
    "        # Training step\n",
    "        if (step+1) % 10 == 0:\n",
    "            print('.', end='', flush=True)\n",
    "                           \n",
    "        count = count +1 "
   ]
  },
  {
   "cell_type": "code",
   "execution_count": null,
   "id": "6a3fe806",
   "metadata": {},
   "outputs": [],
   "source": [
    "fit(train_dataset, validation_dataset, test_dataset, steps= NSTEPS)\n",
    "save_models('last_model_.h5', generator)"
   ]
  }
 ],
 "metadata": {
  "kernelspec": {
   "display_name": "Python 3",
   "language": "python",
   "name": "python3"
  },
  "language_info": {
   "codemirror_mode": {
    "name": "ipython",
    "version": 3
   },
   "file_extension": ".py",
   "mimetype": "text/x-python",
   "name": "python",
   "nbconvert_exporter": "python",
   "pygments_lexer": "ipython3",
   "version": "3.11.5"
  },
  "papermill": {
   "default_parameters": {},
   "duration": 28679.663414,
   "end_time": "2023-10-11T04:57:06.379903",
   "environment_variables": {},
   "exception": null,
   "input_path": "__notebook__.ipynb",
   "output_path": "__notebook__.ipynb",
   "parameters": {},
   "start_time": "2023-10-10T20:59:06.716489",
   "version": "2.4.0"
  }
 },
 "nbformat": 4,
 "nbformat_minor": 5
}
